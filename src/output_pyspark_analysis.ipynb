{
 "cells": [
  {
   "cell_type": "code",
   "execution_count": null,
   "id": "1677673e-90b6-4544-b45c-7f82876c3914",
   "metadata": {},
   "outputs": [],
   "source": [
    "from pyspark.sql.types import LongType, FloatType, StringType\n",
    "from pyspark.sql.functions import col, udf, desc\n",
    "import re\n",
    "from pyspark.sql import SparkSession"
   ]
  },
  {
   "cell_type": "code",
   "execution_count": null,
   "id": "1a583e20-b2fe-4803-984e-c25bbd4534a7",
   "metadata": {},
   "outputs": [],
   "source": [
    "spark = SparkSession.builder.appName('career').getOrCreate()"
   ]
  },
  {
   "cell_type": "code",
   "execution_count": null,
   "id": "f2c544b1-2a0d-4f02-a0fe-f83bdd43715e",
   "metadata": {},
   "outputs": [],
   "source": [
    "json_dataset = \"marketing_sample_for_careerbuilder_usa-careerbuilder_job_listing__20200401_20200630__30k_data.ldjson\"\n",
    "df = spark.read.json(json_dataset)"
   ]
  },
  {
   "cell_type": "code",
   "execution_count": null,
   "id": "12c38517-943d-468a-a464-edead6a8cda4",
   "metadata": {},
   "outputs": [],
   "source": [
    "df.limit(10).toPandas().head()"
   ]
  },
  {
   "cell_type": "markdown",
   "id": "8476fdc5-75bf-4c01-9291-1c10be363913",
   "metadata": {},
   "source": [
    "### calculate number of jobs posted on daily basis, per each city"
   ]
  },
  {
   "cell_type": "code",
   "execution_count": null,
   "id": "ee786a88-eb77-4fcd-89a7-dfb9c7ba22b9",
   "metadata": {},
   "outputs": [],
   "source": [
    "jobs_per_date_nd_each_state_df = df.groupBy([\"post_date\",\"city\"]).count()\n",
    "jobs_per_date_nd_each_state_df.write.option('header',True).csv('jobs_per_date_nd_each_state.csv')\n",
    "jobs_per_date_nd_each_state_df.limit(10).toPandas().head()"
   ]
  },
  {
   "cell_type": "markdown",
   "id": "273c66c6-85f7-4e57-a597-67deea284e53",
   "metadata": {},
   "source": [
    "### calculate average salary per job title and state"
   ]
  },
  {
   "cell_type": "code",
   "execution_count": null,
   "id": "6b6e8a18-7846-4be6-ac25-31f714d92b59",
   "metadata": {},
   "outputs": [],
   "source": [
    "HOURS_IN_YEAR = 8760"
   ]
  },
  {
   "cell_type": "code",
   "execution_count": null,
   "id": "862ac80e-0bfa-44f5-9347-7f8798121378",
   "metadata": {},
   "outputs": [],
   "source": [
    "def return_yearly_salary(salary: str)-> float:\n",
    "    \"\"\"\n",
    "    Extract annual salary\n",
    "    args: salary - salary in different formats.\n",
    "    return: annual salary in float.\n",
    "    \"\"\"\n",
    "    avg_yearly_salary = 0.0\n",
    "    salary = salary.replace(\",\",\"\")\n",
    "    if \"$\" in salary:\n",
    "        if \".\" in salary:\n",
    "            # float values filter\n",
    "            digit_filter = \"\\d+\\.\\d+\"\n",
    "        else:\n",
    "            # int values filter\n",
    "            digit_filter = \"\\d+\"\n",
    "            \n",
    "        all_digits = re.findall(digit_filter, salary)\n",
    "        if re.search('hour',salary,re.IGNORECASE):\n",
    "            avg_hourly_salary = sum(float(digit) for digit in all_digits)/len(all_digits)\n",
    "            avg_yearly_salary = float(avg_hourly_salary * HOURS_IN_YEAR)\n",
    "        else:\n",
    "            avg_yearly_salary = sum(float(digit) for digit in all_digits) / len(all_digits)\n",
    "            \n",
    "    return avg_yearly_salary"
   ]
  },
  {
   "cell_type": "code",
   "execution_count": null,
   "id": "8ac0b44a-9eb2-4b43-8cbc-491e77ee80ab",
   "metadata": {},
   "outputs": [],
   "source": [
    "yearly_udf = udf(lambda z: return_yearly_salary(z), FloatType())"
   ]
  },
  {
   "cell_type": "code",
   "execution_count": null,
   "id": "8c91cdfb-982c-45a6-9fac-109dd7598b80",
   "metadata": {},
   "outputs": [],
   "source": [
    "df = df.withColumn(\"cleaned_yearly_salary\", yearly_udf(col(\"salary_offered\")))"
   ]
  },
  {
   "cell_type": "code",
   "execution_count": null,
   "id": "02c8381b-8be8-433f-889d-63a37c8dbada",
   "metadata": {},
   "outputs": [],
   "source": [
    "average_salary_per_job_title_and_state_df = df.filter(df.cleaned_yearly_salary!=0.0).groupBy([\"job_title\",\"state\"]).avg(\"cleaned_yearly_salary\")\n",
    "average_salary_per_job_title_and_state_df.write.option('header',True).csv('average_salary_per_job_title_and_state.csv')\n",
    "average_salary_per_job_title_and_state_df.limit(10).toPandas().head()"
   ]
  },
  {
   "cell_type": "markdown",
   "id": "1a5ea70f-0645-4a3f-b913-7e3ecf4fce59",
   "metadata": {},
   "source": [
    "### Identify the top 10 most active companies by number of positions opened"
   ]
  },
  {
   "cell_type": "code",
   "execution_count": null,
   "id": "fb4fccb4-72bc-49d6-99f1-c4db7421652f",
   "metadata": {},
   "outputs": [],
   "source": [
    "top_10_most_active_companies_by_number_of_positions_opened_df = df.filter(df.has_expired=='false').groupBy(\"company_name\").count().sort(desc(\"count\")).limit(10)\n",
    "top_10_most_active_companies_by_number_of_positions_opened_df.write.option('header',True).csv('top_10_most_active_companies_by_number_of_positions_opened.csv')"
   ]
  },
  {
   "cell_type": "code",
   "execution_count": null,
   "id": "3beeeec0-d44f-4ab8-bfff-90a10d92a59f",
   "metadata": {},
   "outputs": [],
   "source": [
    "top_10_most_active_companies_by_number_of_positions_opened_df.limit(10).toPandas()"
   ]
  },
  {
   "cell_type": "markdown",
   "id": "f13acaa2-1642-4bce-8d56-ce80b133b8e5",
   "metadata": {},
   "source": [
    "### Create a UDF function to clean job description from HTML code contained inside"
   ]
  },
  {
   "cell_type": "code",
   "execution_count": null,
   "id": "68dd0d42-859b-4bf6-84cb-7483e1a108db",
   "metadata": {},
   "outputs": [],
   "source": [
    "# source: https://stackoverflow.com/questions/9662346/python-code-to-remove-html-tags-from-a-string\n",
    "CLEANR = re.compile('<.*?>|&([a-z0-9]+|#[0-9]{1,6}|#x[0-9a-f]{1,6});')\n",
    "\n",
    "def cleanhtml(raw_html: str) -> str:\n",
    "    \"\"\"\n",
    "    Code to clean the html\n",
    "    args: raw_html - html in string format.\n",
    "    return: cleaned html text\n",
    "    \"\"\"\n",
    "    if type(raw_html)!=str:\n",
    "        return \"\"\n",
    "    cleantext = re.sub(CLEANR, '', raw_html)\n",
    "    cleantext = cleantext.replace('/>','.')\n",
    "    return cleantext"
   ]
  },
  {
   "cell_type": "code",
   "execution_count": null,
   "id": "7349a7fe-b67e-411f-804a-b501370d05a7",
   "metadata": {},
   "outputs": [],
   "source": [
    "html_cleaner_udf = udf(lambda z: cleanhtml(z),StringType())\n",
    "\n",
    "df = df.filter(df.job_description.isNotNull())\n",
    "\n",
    "cleaned_job_description_df = df.withColumn(\"cleaned_job_description\", html_cleaner_udf(col(\"job_description\")))\n",
    "cleaned_job_description_df.write.option('header',True).csv('html_cleaned_job_description.csv')\n"
   ]
  },
  {
   "cell_type": "code",
   "execution_count": null,
   "id": "c75571c3-7160-4753-881c-78ad73daf876",
   "metadata": {},
   "outputs": [],
   "source": [
    "cleaned_job_description_df.limit(10).toPandas().head()"
   ]
  },
  {
   "cell_type": "code",
   "execution_count": null,
   "id": "51e4a109-23d7-42b5-9f9d-b13f38dbb6fa",
   "metadata": {},
   "outputs": [],
   "source": []
  }
 ],
 "metadata": {
  "kernelspec": {
   "display_name": "Python 3 (ipykernel)",
   "language": "python",
   "name": "python3"
  },
  "language_info": {
   "codemirror_mode": {
    "name": "ipython",
    "version": 3
   },
   "file_extension": ".py",
   "mimetype": "text/x-python",
   "name": "python",
   "nbconvert_exporter": "python",
   "pygments_lexer": "ipython3",
   "version": "3.9.12"
  }
 },
 "nbformat": 4,
 "nbformat_minor": 5
}
